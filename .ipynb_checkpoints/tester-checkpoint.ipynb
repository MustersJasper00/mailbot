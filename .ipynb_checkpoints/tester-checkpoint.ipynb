{
 "cells": [
  {
   "cell_type": "code",
   "execution_count": null,
   "id": "initial_id",
   "metadata": {
    "collapsed": true
   },
   "outputs": [],
   "source": [
    ""
   ]
  },
  {
   "metadata": {
    "jupyter": {
     "is_executing": true
    },
    "ExecuteTime": {
     "start_time": "2025-06-17T15:15:11.155944Z"
    }
   },
   "cell_type": "code",
   "source": [
    "from imap_tools import MailBox, AND\n",
    "from datetime import datetime, timedelta, time\n",
    "\n",
    "\n",
    "\n",
    "mail_password = \"frra xzja ablq cehs\"\n",
    "mail_username = \"jaspermusters@gmail.com\"\n",
    "mail_server = \"imap.gmail.com\"\n",
    "\n",
    "def get_mailbox(username,password,server,inbox=\"INBOX\"):\n",
    "    mailbox = MailBox(server)\n",
    "    mailbox.login(username,password,inbox)\n",
    "    return mailbox\n",
    "\n",
    "\n",
    "start = datetime.combine(datetime(2025, 6, 17), time.min)  # 2025-06-17 00:00:00\n",
    "end = datetime.combine(datetime(2025, 6, 18), time.min)\n",
    "\n",
    "\n",
    "def fetch_email(mailbox,start_date,end_date,labels=None,only_unread=False):\n",
    "\n",
    "    if isinstance(start_date, str):\n",
    "        start_date = datetime.strptime(start_date, \"%d-%m-%Y\").date()\n",
    "    if isinstance(end_date, str):\n",
    "        end_date = datetime.strptime(end_date, \"%d-%m-%Y\").date()\n",
    "\n",
    "    criteria = AND(\n",
    "        date_gte=start_date,\n",
    "        date_lt=end_date,\n",
    "        gmail_label=labels,\n",
    "        seen=only_unread\n",
    "    )\n",
    "    retrieved_mail = []\n",
    "    for msg in mailbox.fetch(criteria, reverse=True):\n",
    "        mail_data = {\n",
    "            \"uid\": msg.uid,\n",
    "            \"subject\": msg.subject,\n",
    "            \"from_\": msg.from_,\n",
    "            \"to\": msg.to,\n",
    "            \"cc\": msg.cc,\n",
    "            \"date\": msg.date,\n",
    "            \"body_plain\": msg.text,\n",
    "            \"body_html\": msg.html,\n",
    "            \"size\": msg.size,\n",
    "            \"flags\": msg.flags,\n",
    "            \"is_read\": '\\\\Seen' in msg.flags,\n",
    "            \"attachments\": msg.attachments,\n",
    "            \"thread_id\": None,\n",
    "            \"raw\": None\n",
    "        }\n",
    "\n",
    "        retrieved_mail.append(mail_data)\n",
    "\n",
    "    return retrieved_mail\n",
    "\n",
    "mailbox = get_mailbox(mail_username, mail_password, mail_server)\n",
    "\n",
    "print(fetch_email(\n",
    "    mailbox,\n",
    "    \"17-06-2025\",\n",
    "    \"18-06-2025\",\n",
    "    [\"important\",\"subs/ai\"],\n",
    "    False\n",
    ")   )\n",
    "\n",
    "\n",
    "\n"
   ],
   "id": "dc7a5c38588b9b00",
   "outputs": [],
   "execution_count": null
  }
 ],
 "metadata": {
  "kernelspec": {
   "display_name": "Python 3",
   "language": "python",
   "name": "python3"
  },
  "language_info": {
   "codemirror_mode": {
    "name": "ipython",
    "version": 2
   },
   "file_extension": ".py",
   "mimetype": "text/x-python",
   "name": "python",
   "nbconvert_exporter": "python",
   "pygments_lexer": "ipython2",
   "version": "2.7.6"
  }
 },
 "nbformat": 4,
 "nbformat_minor": 5
}
